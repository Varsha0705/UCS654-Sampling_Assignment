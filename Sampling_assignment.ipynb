{
  "nbformat": 4,
  "nbformat_minor": 0,
  "metadata": {
    "colab": {
      "provenance": []
    },
    "kernelspec": {
      "name": "python3",
      "display_name": "Python 3"
    },
    "language_info": {
      "name": "python"
    }
  },
  "cells": [
    {
      "cell_type": "code",
      "source": [
        "from google.colab import drive\n",
        "drive.mount('/content/drive')"
      ],
      "metadata": {
        "colab": {
          "base_uri": "https://localhost:8080/"
        },
        "id": "Q3O64aEfc0hg",
        "outputId": "2fc26076-a227-4e16-a93f-0940009d5466"
      },
      "execution_count": 1,
      "outputs": [
        {
          "output_type": "stream",
          "name": "stdout",
          "text": [
            "Drive already mounted at /content/drive; to attempt to forcibly remount, call drive.mount(\"/content/drive\", force_remount=True).\n"
          ]
        }
      ]
    },
    {
      "cell_type": "code",
      "source": [
        "import pandas as pd\n",
        "\n",
        "# Load the dataset\n",
        "data = pd.read_csv(\"/content/drive/MyDrive/Creditcard_data.csv\")\n",
        "print(data.head())\n"
      ],
      "metadata": {
        "colab": {
          "base_uri": "https://localhost:8080/"
        },
        "id": "L1cn2lA-c50b",
        "outputId": "b57d88f7-bbb9-4698-b3ab-410c8fa1106d"
      },
      "execution_count": 2,
      "outputs": [
        {
          "output_type": "stream",
          "name": "stdout",
          "text": [
            "   Time        V1        V2        V3        V4        V5        V6        V7  \\\n",
            "0     0 -1.359807 -0.072781  2.536347  1.378155 -0.338321  0.462388  0.239599   \n",
            "1     0  1.191857  0.266151  0.166480  0.448154  0.060018 -0.082361 -0.078803   \n",
            "2     1 -1.358354 -1.340163  1.773209  0.379780 -0.503198  1.800499  0.791461   \n",
            "3     1 -0.966272 -0.185226  1.792993 -0.863291 -0.010309  1.247203  0.237609   \n",
            "4     2 -1.158233  0.877737  1.548718  0.403034 -0.407193  0.095921  0.592941   \n",
            "\n",
            "         V8        V9  ...       V21       V22       V23       V24       V25  \\\n",
            "0  0.098698  0.363787  ... -0.018307  0.277838 -0.110474  0.066928  0.128539   \n",
            "1  0.085102 -0.255425  ... -0.225775 -0.638672  0.101288 -0.339846  0.167170   \n",
            "2  0.247676 -1.514654  ...  0.247998  0.771679  0.909412 -0.689281 -0.327642   \n",
            "3  0.377436 -1.387024  ... -0.108300  0.005274 -0.190321 -1.175575  0.647376   \n",
            "4 -0.270533  0.817739  ... -0.009431  0.798278 -0.137458  0.141267 -0.206010   \n",
            "\n",
            "        V26       V27       V28  Amount  Class  \n",
            "0 -0.189115  0.133558 -0.021053  149.62      0  \n",
            "1  0.125895 -0.008983  0.014724    2.69      1  \n",
            "2 -0.139097 -0.055353 -0.059752  378.66      0  \n",
            "3 -0.221929  0.062723  0.061458  123.50      0  \n",
            "4  0.502292  0.219422  0.215153   69.99      0  \n",
            "\n",
            "[5 rows x 31 columns]\n"
          ]
        }
      ]
    },
    {
      "cell_type": "code",
      "source": [
        "print(data['Class'].value_counts())"
      ],
      "metadata": {
        "colab": {
          "base_uri": "https://localhost:8080/"
        },
        "id": "Na0M3RznTBmW",
        "outputId": "7053b76d-2e24-400b-d2ed-87c4aa6fd4e8"
      },
      "execution_count": 3,
      "outputs": [
        {
          "output_type": "stream",
          "name": "stdout",
          "text": [
            "Class\n",
            "0    763\n",
            "1      9\n",
            "Name: count, dtype: int64\n"
          ]
        }
      ]
    },
    {
      "cell_type": "code",
      "source": [
        "from imblearn.over_sampling import SMOTE\n",
        "\n",
        "X = data.drop('Class', axis=1)\n",
        "y = data['Class']\n",
        "\n",
        "smote = SMOTE(random_state=42)\n",
        "X_resampled, y_resampled = smote.fit_resample(X, y)\n",
        "\n",
        "balanced_data = pd.concat([pd.DataFrame(X_resampled), pd.DataFrame(y_resampled, columns=['Class'])], axis=1)\n",
        "print(balanced_data['Class'].value_counts())\n"
      ],
      "metadata": {
        "colab": {
          "base_uri": "https://localhost:8080/"
        },
        "id": "isrQO7xCTJjr",
        "outputId": "38cb02ab-1203-49b8-e6d9-4b6d543295c8"
      },
      "execution_count": 4,
      "outputs": [
        {
          "output_type": "stream",
          "name": "stdout",
          "text": [
            "Class\n",
            "0    763\n",
            "1    763\n",
            "Name: count, dtype: int64\n"
          ]
        }
      ]
    },
    {
      "cell_type": "code",
      "source": [
        "sample1 = balanced_data.sample(frac=0.2, random_state=1)\n",
        "sample2 = balanced_data.sample(frac=0.2, random_state=2)\n",
        "sample3 = balanced_data.sample(frac=0.2, random_state=3)\n",
        "sample4 = balanced_data.sample(frac=0.2, random_state=4)\n",
        "sample5 = balanced_data.sample(frac=0.2, random_state=5)\n",
        "sample1.to_csv(\"sample1.csv\", index=False)\n",
        "sample2.to_csv(\"sample2.csv\", index=False)\n",
        "sample3.to_csv(\"sample3.csv\", index=False)\n",
        "sample4.to_csv(\"sample4.csv\", index=False)\n",
        "sample5.to_csv(\"sample5.csv\", index=False)"
      ],
      "metadata": {
        "id": "HLdOexD4TNai"
      },
      "execution_count": 5,
      "outputs": []
    },
    {
      "cell_type": "code",
      "source": [
        "simple_random_sample = balanced_data.sample(n=1000, random_state=42)"
      ],
      "metadata": {
        "id": "JAzco3W5dGWB"
      },
      "execution_count": 6,
      "outputs": []
    },
    {
      "cell_type": "code",
      "source": [
        "from sklearn.model_selection import train_test_split\n",
        "\n",
        "stratified_sample, _ = train_test_split(balanced_data, test_size=0.8, stratify=balanced_data['Class'], random_state=42)\n"
      ],
      "metadata": {
        "id": "9Aq2mXGDdKbO"
      },
      "execution_count": 7,
      "outputs": []
    },
    {
      "cell_type": "code",
      "source": [
        "interval = len(balanced_data) // 1000\n",
        "systematic_sample = balanced_data.iloc[::interval]\n"
      ],
      "metadata": {
        "id": "23lRwmGOdL8W"
      },
      "execution_count": 8,
      "outputs": []
    },
    {
      "cell_type": "code",
      "source": [
        "import random\n",
        "\n",
        "if 'Age' in balanced_data.columns:\n",
        "    balanced_data['Age_cluster'] = balanced_data['Age'] // 10\n",
        "else:\n",
        "    balanced_data['Age_cluster'] = random.choices(range(1, 4), k=len(balanced_data))\n",
        "\n",
        "unique_clusters = balanced_data['Age_cluster'].unique()\n",
        "print(f\"Unique clusters: {unique_clusters}\")\n",
        "\n",
        "k = min(3, len(unique_clusters))\n",
        "\n",
        "selected_clusters = random.sample(list(unique_clusters), k=k)\n",
        "\n",
        "cluster_sample = balanced_data[balanced_data['Age_cluster'].isin(selected_clusters)]\n"
      ],
      "metadata": {
        "colab": {
          "base_uri": "https://localhost:8080/"
        },
        "id": "QBQqnW9wdNxY",
        "outputId": "5677ffba-33e4-4c26-b60d-62eaa0cf25c7"
      },
      "execution_count": 14,
      "outputs": [
        {
          "output_type": "stream",
          "name": "stdout",
          "text": [
            "Unique clusters: [1 3 2]\n"
          ]
        }
      ]
    },
    {
      "cell_type": "code",
      "source": [
        "convenience_sample = balanced_data.head(1000)"
      ],
      "metadata": {
        "id": "OUdDLYI8eEwA"
      },
      "execution_count": 16,
      "outputs": []
    },
    {
      "cell_type": "code",
      "source": [
        "import pandas as pd\n",
        "from sklearn.model_selection import train_test_split\n",
        "from sklearn.metrics import accuracy_score\n",
        "from sklearn.linear_model import LogisticRegression\n",
        "from sklearn.tree import DecisionTreeClassifier\n",
        "from sklearn.ensemble import RandomForestClassifier\n",
        "from sklearn.svm import SVC\n",
        "from sklearn.neighbors import KNeighborsClassifier\n",
        "\n",
        "sampling_techniques = {\n",
        "    \"Sampling1\": pd.read_csv(\"/content/sample1.csv\"),\n",
        "    \"Sampling2\": pd.read_csv(\"/content/sample2.csv\"),\n",
        "    \"Sampling3\": pd.read_csv(\"/content/sample3.csv\"),\n",
        "    \"Sampling4\": pd.read_csv(\"/content/sample4.csv\"),\n",
        "    \"Sampling5\": pd.read_csv(\"/content/sample5.csv\"),\n",
        "}\n",
        "\n",
        "models = {\n",
        "    \"M1\": LogisticRegression(max_iter=1000),\n",
        "    \"M2\": DecisionTreeClassifier(),\n",
        "    \"M3\": RandomForestClassifier(),\n",
        "    \"M4\": SVC(),\n",
        "    \"M5\": KNeighborsClassifier()\n",
        "}\n",
        "\n",
        "accuracy_matrix = pd.DataFrame(columns=[\"Sampling1\", \"Sampling2\", \"Sampling3\", \"Sampling4\", \"Sampling5\"], index=models.keys())\n",
        "\n",
        "for sampling_name, sampled_data in sampling_techniques.items():\n",
        "    X = sampled_data.drop(\"Class\", axis=1)\n",
        "    y = sampled_data[\"Class\"]\n",
        "    X_train, X_test, y_train, y_test = train_test_split(X, y, test_size=0.2, random_state=42)\n",
        "\n",
        "    for model_name, model in models.items():\n",
        "        model.fit(X_train, y_train)\n",
        "        y_pred = model.predict(X_test)\n",
        "        accuracy = accuracy_score(y_test, y_pred)\n",
        "        accuracy_matrix.loc[model_name, sampling_name] = accuracy\n",
        "\n",
        "print(\"Accuracy Matrix:\")\n",
        "print(accuracy_matrix)"
      ],
      "metadata": {
        "colab": {
          "base_uri": "https://localhost:8080/"
        },
        "id": "IdeN2h7fe6ay",
        "outputId": "d1e37455-3eae-417c-e973-51686de8044b"
      },
      "execution_count": 22,
      "outputs": [
        {
          "output_type": "stream",
          "name": "stderr",
          "text": [
            "/usr/local/lib/python3.11/dist-packages/sklearn/linear_model/_logistic.py:465: ConvergenceWarning: lbfgs failed to converge (status=1):\n",
            "STOP: TOTAL NO. of ITERATIONS REACHED LIMIT.\n",
            "\n",
            "Increase the number of iterations (max_iter) or scale the data as shown in:\n",
            "    https://scikit-learn.org/stable/modules/preprocessing.html\n",
            "Please also refer to the documentation for alternative solver options:\n",
            "    https://scikit-learn.org/stable/modules/linear_model.html#logistic-regression\n",
            "  n_iter_i = _check_optimize_result(\n"
          ]
        },
        {
          "output_type": "stream",
          "name": "stdout",
          "text": [
            "Accuracy Matrix:\n",
            "   Sampling1 Sampling2 Sampling3 Sampling4 Sampling5\n",
            "M1  0.983607  0.852459  0.885246  0.934426  0.918033\n",
            "M2  0.868852  0.967213   0.95082  0.967213   0.95082\n",
            "M3  0.967213       1.0  0.983607  0.983607  0.983607\n",
            "M4  0.737705  0.590164  0.721311  0.672131  0.688525\n",
            "M5  0.737705  0.721311  0.754098  0.737705  0.672131\n"
          ]
        }
      ]
    },
    {
      "cell_type": "code",
      "source": [
        "best_combinations = accuracy_matrix.idxmax()\n",
        "print(\"Best Sampling Technique for Each Model:\")\n",
        "print(best_combinations)"
      ],
      "metadata": {
        "colab": {
          "base_uri": "https://localhost:8080/"
        },
        "id": "lxGUxP5KfXAT",
        "outputId": "bffb078b-6b42-4e15-a61c-379ed29319e9"
      },
      "execution_count": 23,
      "outputs": [
        {
          "output_type": "stream",
          "name": "stdout",
          "text": [
            "Best Sampling Technique for Each Model:\n",
            "Sampling1    M1\n",
            "Sampling2    M3\n",
            "Sampling3    M3\n",
            "Sampling4    M3\n",
            "Sampling5    M3\n",
            "dtype: object\n"
          ]
        }
      ]
    },
    {
      "cell_type": "code",
      "source": [],
      "metadata": {
        "id": "f5PN1xUaiLyi"
      },
      "execution_count": null,
      "outputs": []
    }
  ]
}